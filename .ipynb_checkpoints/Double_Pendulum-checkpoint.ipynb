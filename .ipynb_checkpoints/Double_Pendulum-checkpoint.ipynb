{
 "metadata": {
  "name": "",
  "signature": "sha256:e09e198d5640767028812b20669f3f35c11f0a69d9d4502c7f1f6ac2a2aca8ce"
 },
 "nbformat": 3,
 "nbformat_minor": 0,
 "worksheets": [
  {
   "cells": [
    {
     "cell_type": "heading",
     "level": 1,
     "metadata": {},
     "source": [
      "Finding the equations of motion for a Double Pendulum using Analytic Mechanics\n",
      "<br />"
     ]
    },
    {
     "cell_type": "code",
     "collapsed": false,
     "input": [
      "from __future__ import division\n",
      "from sympy import *\n",
      "init_session()"
     ],
     "language": "python",
     "metadata": {},
     "outputs": [
      {
       "output_type": "stream",
       "stream": "stdout",
       "text": [
        "IPython console for SymPy 0.7.5 (Python 2.7.2-64-bit) (ground types: python)\n",
        "\n",
        "These commands were executed:\n",
        ">>> from __future__ import division\n",
        ">>> from sympy import *\n",
        ">>> x, y, z, t = symbols('x y z t')\n",
        ">>> k, m, n = symbols('k m n', integer=True)\n",
        ">>> f, g, h = symbols('f g h', cls=Function)\n",
        "\n",
        "Documentation can be found at http://www.sympy.org\n"
       ]
      },
      {
       "output_type": "stream",
       "stream": "stderr",
       "text": [
        "WARNING: Hook shutdown_hook is deprecated. Use the atexit module instead.\n"
       ]
      }
     ],
     "prompt_number": 2
    },
    {
     "cell_type": "code",
     "collapsed": false,
     "input": [
      "from sympy.abc import *"
     ],
     "language": "python",
     "metadata": {},
     "outputs": [],
     "prompt_number": 3
    },
    {
     "cell_type": "code",
     "collapsed": false,
     "input": [
      "r_1,r_2,l_1,l_2, m_1, m_2, rdot_1, rdot_2,g = symbols(\"r_1 r_2 l_1 l_2 m_1 m_2 \\dot{r_1} \\dot{r_2} g\")\n",
      "phi_1, phi_2 = symbols(\"phi_1 phi_2\", cls=Function)"
     ],
     "language": "python",
     "metadata": {},
     "outputs": [],
     "prompt_number": 4
    },
    {
     "cell_type": "code",
     "collapsed": false,
     "input": [
      "from six import with_metaclass\n",
      "from sympy.core.singleton import Singleton\n",
      "from sympy.numbers import NumberSymbol\n",
      "class g(with_metaclass(Singleton, NumberSymbol)):\n",
      "    is_real = True\n",
      "    is_positive = True\n",
      "    is_negative = False\n",
      "    is_irrational = False\n",
      "\n",
      "    __slots__ = []\n",
      "\n",
      "    def _latex(self, printer):\n",
      "        return r\"g\"\n",
      "\n",
      "    @staticmethod\n",
      "    def __abs__():\n",
      "        return 9.8\n",
      "\n",
      "    def __int__(self):\n",
      "        return 10\n",
      "g = S.g"
     ],
     "language": "python",
     "metadata": {},
     "outputs": [
      {
       "ename": "NameError",
       "evalue": "name 'NumberSymbol' is not defined",
       "output_type": "pyerr",
       "traceback": [
        "\u001b[0;31m---------------------------------------------------------------------------\u001b[0m\n\u001b[0;31mNameError\u001b[0m                                 Traceback (most recent call last)",
        "\u001b[0;32m<ipython-input-3-0d46d7b52bc8>\u001b[0m in \u001b[0;36m<module>\u001b[0;34m()\u001b[0m\n\u001b[1;32m      1\u001b[0m \u001b[0;32mfrom\u001b[0m \u001b[0msix\u001b[0m \u001b[0;32mimport\u001b[0m \u001b[0mwith_metaclass\u001b[0m\u001b[0;34m\u001b[0m\u001b[0m\n\u001b[1;32m      2\u001b[0m \u001b[0;32mfrom\u001b[0m \u001b[0msympy\u001b[0m\u001b[0;34m.\u001b[0m\u001b[0mcore\u001b[0m\u001b[0;34m.\u001b[0m\u001b[0msingleton\u001b[0m \u001b[0;32mimport\u001b[0m \u001b[0mSingleton\u001b[0m\u001b[0;34m\u001b[0m\u001b[0m\n\u001b[0;32m----> 3\u001b[0;31m \u001b[0;32mclass\u001b[0m \u001b[0mg\u001b[0m\u001b[0;34m(\u001b[0m\u001b[0mwith_metaclass\u001b[0m\u001b[0;34m(\u001b[0m\u001b[0mSingleton\u001b[0m\u001b[0;34m,\u001b[0m \u001b[0mNumberSymbol\u001b[0m\u001b[0;34m)\u001b[0m\u001b[0;34m)\u001b[0m\u001b[0;34m:\u001b[0m\u001b[0;34m\u001b[0m\u001b[0m\n\u001b[0m\u001b[1;32m      4\u001b[0m     \u001b[0mis_real\u001b[0m \u001b[0;34m=\u001b[0m \u001b[0mTrue\u001b[0m\u001b[0;34m\u001b[0m\u001b[0m\n\u001b[1;32m      5\u001b[0m     \u001b[0mis_positive\u001b[0m \u001b[0;34m=\u001b[0m \u001b[0mTrue\u001b[0m\u001b[0;34m\u001b[0m\u001b[0m\n",
        "\u001b[0;31mNameError\u001b[0m: name 'NumberSymbol' is not defined"
       ]
      }
     ],
     "prompt_number": 3
    },
    {
     "cell_type": "code",
     "collapsed": false,
     "input": [
      "phi_1 = phi_1(t)\n",
      "phi_2 = phi_2(t)"
     ],
     "language": "python",
     "metadata": {},
     "outputs": [],
     "prompt_number": 5
    },
    {
     "cell_type": "code",
     "collapsed": false,
     "input": [
      "r_1 = Matrix([l_1 * sin(phi_1), -l_1 * cos(phi_1)])\n",
      "rdot_1 = r_1.diff(t)\n",
      "rdot_1"
     ],
     "language": "python",
     "metadata": {},
     "outputs": [
      {
       "latex": [
        "$$\\left[\\begin{matrix}l_{1} \\cos{\\left (\\phi_{1}{\\left (t \\right )} \\right )} \\frac{d}{d t} \\phi_{1}{\\left (t \\right )}\\\\l_{1} \\sin{\\left (\\phi_{1}{\\left (t \\right )} \\right )} \\frac{d}{d t} \\phi_{1}{\\left (t \\right )}\\end{matrix}\\right]$$"
       ],
       "metadata": {},
       "output_type": "pyout",
       "png": "[encoded data removed]",
       "prompt_number": 6,
       "text": [
        "\u23a1              d        \u23a4\n",
        "\u23a2l\u2081\u22c5cos(\u03c6\u2081(t))\u22c5\u2500\u2500(\u03c6\u2081(t))\u23a5\n",
        "\u23a2              dt       \u23a5\n",
        "\u23a2                       \u23a5\n",
        "\u23a2              d        \u23a5\n",
        "\u23a2l\u2081\u22c5sin(\u03c6\u2081(t))\u22c5\u2500\u2500(\u03c6\u2081(t))\u23a5\n",
        "\u23a3              dt       \u23a6"
       ]
      }
     ],
     "prompt_number": 6
    },
    {
     "cell_type": "code",
     "collapsed": false,
     "input": [
      "r_2 = Matrix([r_1[0] + l_2 * sin(phi_2), r_1[1] -l_2 * cos(phi_2)])\n",
      "rdot_2 = r_2.diff(t)\n",
      "rdot_2\n"
     ],
     "language": "python",
     "metadata": {},
     "outputs": [
      {
       "latex": [
        "$$\\left[\\begin{matrix}l_{1} \\cos{\\left (\\phi_{1}{\\left (t \\right )} \\right )} \\frac{d}{d t} \\phi_{1}{\\left (t \\right )} + l_{2} \\cos{\\left (\\phi_{2}{\\left (t \\right )} \\right )} \\frac{d}{d t} \\phi_{2}{\\left (t \\right )}\\\\l_{1} \\sin{\\left (\\phi_{1}{\\left (t \\right )} \\right )} \\frac{d}{d t} \\phi_{1}{\\left (t \\right )} + l_{2} \\sin{\\left (\\phi_{2}{\\left (t \\right )} \\right )} \\frac{d}{d t} \\phi_{2}{\\left (t \\right )}\\end{matrix}\\right]$$"
       ],
       "metadata": {},
       "output_type": "pyout",
       "png": "[encoded data removed]",
       "prompt_number": 7,
       "text": [
        "\u23a1              d                         d        \u23a4\n",
        "\u23a2l\u2081\u22c5cos(\u03c6\u2081(t))\u22c5\u2500\u2500(\u03c6\u2081(t)) + l\u2082\u22c5cos(\u03c6\u2082(t))\u22c5\u2500\u2500(\u03c6\u2082(t))\u23a5\n",
        "\u23a2              dt                        dt       \u23a5\n",
        "\u23a2                                                 \u23a5\n",
        "\u23a2              d                         d        \u23a5\n",
        "\u23a2l\u2081\u22c5sin(\u03c6\u2081(t))\u22c5\u2500\u2500(\u03c6\u2081(t)) + l\u2082\u22c5sin(\u03c6\u2082(t))\u22c5\u2500\u2500(\u03c6\u2082(t))\u23a5\n",
        "\u23a3              dt                        dt       \u23a6"
       ]
      }
     ],
     "prompt_number": 7
    },
    {
     "cell_type": "code",
     "collapsed": false,
     "input": [
      "simplify(rdot_1.T * rdot_1), simplify(rdot_2.T * rdot_2)"
     ],
     "language": "python",
     "metadata": {},
     "outputs": [
      {
       "latex": [
        "$$\\begin{pmatrix}\\left[\\begin{matrix}l_{1}^{2} \\left(\\frac{d}{d t} \\phi_{1}{\\left (t \\right )}\\right)^{2}\\end{matrix}\\right], & \\left[\\begin{matrix}l_{1}^{2} \\left(\\frac{d}{d t} \\phi_{1}{\\left (t \\right )}\\right)^{2} + 2 l_{1} l_{2} \\cos{\\left (\\phi_{1}{\\left (t \\right )} - \\phi_{2}{\\left (t \\right )} \\right )} \\frac{d}{d t} \\phi_{1}{\\left (t \\right )} \\frac{d}{d t} \\phi_{2}{\\left (t \\right )} + l_{2}^{2} \\left(\\frac{d}{d t} \\phi_{2}{\\left (t \\right )}\\right)^{2}\\end{matrix}\\right]\\end{pmatrix}$$"
       ],
       "metadata": {},
       "output_type": "pyout",
       "png": "[encoded data removed]",
       "prompt_number": 8,
       "text": [
        "\u239b\u23a1               2\u23a4  \u23a1               2                                        \n",
        "\u239c\u23a2  2 \u239bd        \u239e \u23a5  \u23a2  2 \u239bd        \u239e                               d         \n",
        "\u239c\u23a2l\u2081 \u22c5\u239c\u2500\u2500(\u03c6\u2081(t))\u239f \u23a5, \u23a2l\u2081 \u22c5\u239c\u2500\u2500(\u03c6\u2081(t))\u239f  + 2\u22c5l\u2081\u22c5l\u2082\u22c5cos(\u03c6\u2081(t) - \u03c6\u2082(t))\u22c5\u2500\u2500(\u03c6\u2081(t))\u22c5\n",
        "\u239d\u23a3    \u239ddt       \u23a0 \u23a6  \u23a3    \u239ddt       \u23a0                               dt        \n",
        "\n",
        "                           2\u23a4\u239e\n",
        "d             2 \u239bd        \u239e \u23a5\u239f\n",
        "\u2500\u2500(\u03c6\u2082(t)) + l\u2082 \u22c5\u239c\u2500\u2500(\u03c6\u2082(t))\u239f \u23a5\u239f\n",
        "dt              \u239ddt       \u23a0 \u23a6\u23a0"
       ]
      }
     ],
     "prompt_number": 8
    },
    {
     "cell_type": "code",
     "collapsed": false,
     "input": [
      "T = (1/2) * m_1 * rdot_1.T * rdot_1 + (1/2) * m_2 * rdot_2.T * rdot_2\n",
      "T = T[0]"
     ],
     "language": "python",
     "metadata": {},
     "outputs": [],
     "prompt_number": 9
    },
    {
     "cell_type": "code",
     "collapsed": false,
     "input": [
      "U = -g * ((m_1 * r_1[1]) + (m_2 * r_2[1]))"
     ],
     "language": "python",
     "metadata": {},
     "outputs": [],
     "prompt_number": 10
    },
    {
     "cell_type": "heading",
     "level": 3,
     "metadata": {},
     "source": [
      "The Lagrangian Approach"
     ]
    },
    {
     "cell_type": "markdown",
     "metadata": {},
     "source": [
      "Here we're defining $\\mathcal{L}$ (known as the Lagrangian)\n",
      "\n",
      "$ \\mathcal{L} = T - U $\n",
      "\n",
      "And using the following equation\n",
      "\n",
      "$\\large\\frac{\\partial \\mathcal{L}}{\\partial q_i} - \\frac{d}{dt}\\left(\\frac{\\partial \\mathcal{L}}{\\partial \\dot{q}_i}\\right) = 0$\n",
      "\n",
      "Where $q_i$ refers to each of our generalized coordinates, in this case, $\\phi_1$ and $\\phi_2$."
     ]
    },
    {
     "cell_type": "code",
     "collapsed": false,
     "input": [
      "L = symbols(\"\\mathcal{L}\")\n",
      "L = T - U\n",
      "simplify(L)"
     ],
     "language": "python",
     "metadata": {},
     "outputs": [
      {
       "latex": [
        "$$- 1.0 g l_{1} m_{1} \\cos{\\left (\\phi_{1}{\\left (t \\right )} \\right )} - 1.0 g l_{1} m_{2} \\cos{\\left (\\phi_{1}{\\left (t \\right )} \\right )} - 1.0 g l_{2} m_{2} \\cos{\\left (\\phi_{2}{\\left (t \\right )} \\right )} + 0.5 l_{1}^{2} m_{1} \\left(\\frac{d}{d t} \\phi_{1}{\\left (t \\right )}\\right)^{2} + 0.5 l_{1}^{2} m_{2} \\left(\\frac{d}{d t} \\phi_{1}{\\left (t \\right )}\\right)^{2} + 1.0 l_{1} l_{2} m_{2} \\cos{\\left (\\phi_{1}{\\left (t \\right )} - \\phi_{2}{\\left (t \\right )} \\right )} \\frac{d}{d t} \\phi_{1}{\\left (t \\right )} \\frac{d}{d t} \\phi_{2}{\\left (t \\right )} + 0.5 l_{2}^{2} m_{2} \\left(\\frac{d}{d t} \\phi_{2}{\\left (t \\right )}\\right)^{2}$$"
       ],
       "metadata": {},
       "output_type": "pyout",
       "png": "[encoded data removed]",
       "prompt_number": 11,
       "text": [
        "                                                                              \n",
        "                                                                              \n",
        "-1.0\u22c5g\u22c5l\u2081\u22c5m\u2081\u22c5cos(\u03c6\u2081(t)) - 1.0\u22c5g\u22c5l\u2081\u22c5m\u2082\u22c5cos(\u03c6\u2081(t)) - 1.0\u22c5g\u22c5l\u2082\u22c5m\u2082\u22c5cos(\u03c6\u2082(t)) + 0.\n",
        "                                                                              \n",
        "\n",
        "                    2                         2                               \n",
        "    2    \u239bd        \u239e          2    \u239bd        \u239e                                \n",
        "5\u22c5l\u2081 \u22c5m\u2081\u22c5\u239c\u2500\u2500(\u03c6\u2081(t))\u239f  + 0.5\u22c5l\u2081 \u22c5m\u2082\u22c5\u239c\u2500\u2500(\u03c6\u2081(t))\u239f  + 1.0\u22c5l\u2081\u22c5l\u2082\u22c5m\u2082\u22c5cos(\u03c6\u2081(t) - \u03c6\u2082(\n",
        "         \u239ddt       \u23a0               \u239ddt       \u23a0                                \n",
        "\n",
        "                                                2\n",
        "    d         d                 2    \u239bd        \u239e \n",
        "t))\u22c5\u2500\u2500(\u03c6\u2081(t))\u22c5\u2500\u2500(\u03c6\u2082(t)) + 0.5\u22c5l\u2082 \u22c5m\u2082\u22c5\u239c\u2500\u2500(\u03c6\u2082(t))\u239f \n",
        "    dt        dt                     \u239ddt       \u23a0 "
       ]
      }
     ],
     "prompt_number": 11
    },
    {
     "cell_type": "code",
     "collapsed": false,
     "input": [
      "eq1 = simplify(L.diff(phi_1) - L.diff(phi_1.diff(t)).diff(t))\n",
      "Eq(eq1, 0)"
     ],
     "language": "python",
     "metadata": {},
     "outputs": [
      {
       "latex": [
        "$$1.0 l_{1} \\left(g m_{1} \\sin{\\left (\\phi_{1}{\\left (t \\right )} \\right )} + g m_{2} \\sin{\\left (\\phi_{1}{\\left (t \\right )} \\right )} - l_{1} m_{1} \\frac{d^{2}}{d t^{2}}  \\phi_{1}{\\left (t \\right )} - l_{1} m_{2} \\frac{d^{2}}{d t^{2}}  \\phi_{1}{\\left (t \\right )} - l_{2} m_{2} \\sin{\\left (\\phi_{1}{\\left (t \\right )} - \\phi_{2}{\\left (t \\right )} \\right )} \\left(\\frac{d}{d t} \\phi_{2}{\\left (t \\right )}\\right)^{2} - l_{2} m_{2} \\cos{\\left (\\phi_{1}{\\left (t \\right )} - \\phi_{2}{\\left (t \\right )} \\right )} \\frac{d^{2}}{d t^{2}}  \\phi_{2}{\\left (t \\right )}\\right) = 0$$"
       ],
       "metadata": {},
       "output_type": "pyout",
       "png": "[encoded data removed]",
       "prompt_number": 12,
       "text": [
        "       \u239b                                            2                  2      \n",
        "       \u239c                                           d                  d       \n",
        "1.0\u22c5l\u2081\u22c5\u239cg\u22c5m\u2081\u22c5sin(\u03c6\u2081(t)) + g\u22c5m\u2082\u22c5sin(\u03c6\u2081(t)) - l\u2081\u22c5m\u2081\u22c5\u2500\u2500\u2500(\u03c6\u2081(t)) - l\u2081\u22c5m\u2082\u22c5\u2500\u2500\u2500(\u03c6\u2081(t)\n",
        "       \u239c                                            2                  2      \n",
        "       \u239d                                          dt                 dt       \n",
        "\n",
        "                                        2                              2      \n",
        "                             \u239bd        \u239e                              d       \n",
        ") - l\u2082\u22c5m\u2082\u22c5sin(\u03c6\u2081(t) - \u03c6\u2082(t))\u22c5\u239c\u2500\u2500(\u03c6\u2082(t))\u239f  - l\u2082\u22c5m\u2082\u22c5cos(\u03c6\u2081(t) - \u03c6\u2082(t))\u22c5\u2500\u2500\u2500(\u03c6\u2082(t)\n",
        "                             \u239ddt       \u23a0                               2      \n",
        "                                                                     dt       \n",
        "\n",
        " \u239e    \n",
        " \u239f    \n",
        ")\u239f = 0\n",
        " \u239f    \n",
        " \u23a0    "
       ]
      }
     ],
     "prompt_number": 12
    },
    {
     "cell_type": "code",
     "collapsed": false,
     "input": [
      "eq2 = simplify(L.diff(phi_2) - L.diff(phi_2.diff(t)).diff(t))\n",
      "Eq(eq2, 0)"
     ],
     "language": "python",
     "metadata": {},
     "outputs": [
      {
       "latex": [
        "$$1.0 l_{2} m_{2} \\left(g \\sin{\\left (\\phi_{2}{\\left (t \\right )} \\right )} + l_{1} \\sin{\\left (\\phi_{1}{\\left (t \\right )} - \\phi_{2}{\\left (t \\right )} \\right )} \\left(\\frac{d}{d t} \\phi_{1}{\\left (t \\right )}\\right)^{2} - l_{1} \\cos{\\left (\\phi_{1}{\\left (t \\right )} - \\phi_{2}{\\left (t \\right )} \\right )} \\frac{d^{2}}{d t^{2}}  \\phi_{1}{\\left (t \\right )} - l_{2} \\frac{d^{2}}{d t^{2}}  \\phi_{2}{\\left (t \\right )}\\right) = 0$$"
       ],
       "metadata": {},
       "output_type": "pyout",
       "png": "[encoded data removed]",
       "prompt_number": 13,
       "text": [
        "          \u239b                                                2                  \n",
        "          \u239c                                     \u239bd        \u239e                   \n",
        "1.0\u22c5l\u2082\u22c5m\u2082\u22c5\u239cg\u22c5sin(\u03c6\u2082(t)) + l\u2081\u22c5sin(\u03c6\u2081(t) - \u03c6\u2082(t))\u22c5\u239c\u2500\u2500(\u03c6\u2081(t))\u239f  - l\u2081\u22c5cos(\u03c6\u2081(t) - \n",
        "          \u239c                                     \u239ddt       \u23a0                   \n",
        "          \u239d                                                                   \n",
        "\n",
        "         2               2       \u239e    \n",
        "        d               d        \u239f    \n",
        "\u03c6\u2082(t))\u22c5\u2500\u2500\u2500(\u03c6\u2081(t)) - l\u2082\u22c5\u2500\u2500\u2500(\u03c6\u2082(t))\u239f = 0\n",
        "         2               2       \u239f    \n",
        "       dt              dt        \u23a0    "
       ]
      }
     ],
     "prompt_number": 13
    },
    {
     "cell_type": "code",
     "collapsed": true,
     "input": [
      "pd1 = solve(eq1, phi_1.diff(t).diff(t))[0] # solution is given as a list\n",
      "Eq(pd1, phi_1.diff(t).diff(t)) # displaying the equality we now know to be true"
     ],
     "language": "python",
     "metadata": {},
     "outputs": [
      {
       "latex": [
        "$$\\frac{1}{l_{1} \\left(m_{1} + m_{2}\\right)} \\left(g m_{1} \\sin{\\left (\\phi_{1}{\\left (t \\right )} \\right )} + g m_{2} \\sin{\\left (\\phi_{1}{\\left (t \\right )} \\right )} - l_{2} m_{2} \\sin{\\left (\\phi_{1}{\\left (t \\right )} - \\phi_{2}{\\left (t \\right )} \\right )} \\left(\\frac{d}{d t} \\phi_{2}{\\left (t \\right )}\\right)^{2} - l_{2} m_{2} \\cos{\\left (\\phi_{1}{\\left (t \\right )} - \\phi_{2}{\\left (t \\right )} \\right )} \\frac{d^{2}}{d t^{2}}  \\phi_{2}{\\left (t \\right )}\\right) = \\frac{d^{2}}{d t^{2}}  \\phi_{1}{\\left (t \\right )}$$"
       ],
       "metadata": {},
       "output_type": "pyout",
       "png": "[encoded data removed]",
       "prompt_number": 14,
       "text": [
        "                                                                        2     \n",
        "                                                             \u239bd        \u239e      \n",
        "g\u22c5m\u2081\u22c5sin(\u03c6\u2081(t)) + g\u22c5m\u2082\u22c5sin(\u03c6\u2081(t)) - l\u2082\u22c5m\u2082\u22c5sin(\u03c6\u2081(t) - \u03c6\u2082(t))\u22c5\u239c\u2500\u2500(\u03c6\u2082(t))\u239f  - l\u2082\n",
        "                                                             \u239ddt       \u23a0      \n",
        "                                                                              \n",
        "\u2500\u2500\u2500\u2500\u2500\u2500\u2500\u2500\u2500\u2500\u2500\u2500\u2500\u2500\u2500\u2500\u2500\u2500\u2500\u2500\u2500\u2500\u2500\u2500\u2500\u2500\u2500\u2500\u2500\u2500\u2500\u2500\u2500\u2500\u2500\u2500\u2500\u2500\u2500\u2500\u2500\u2500\u2500\u2500\u2500\u2500\u2500\u2500\u2500\u2500\u2500\u2500\u2500\u2500\u2500\u2500\u2500\u2500\u2500\u2500\u2500\u2500\u2500\u2500\u2500\u2500\u2500\u2500\u2500\u2500\u2500\u2500\u2500\u2500\u2500\u2500\u2500\u2500\n",
        "                                                  l\u2081\u22c5(m\u2081 + m\u2082)                \n",
        "                                                                              \n",
        "\n",
        "                         2                    \n",
        "                        d                     \n",
        "\u22c5m\u2082\u22c5cos(\u03c6\u2081(t) - \u03c6\u2082(t))\u22c5\u2500\u2500\u2500(\u03c6\u2082(t))             \n",
        "                         2            2       \n",
        "                       dt            d        \n",
        "\u2500\u2500\u2500\u2500\u2500\u2500\u2500\u2500\u2500\u2500\u2500\u2500\u2500\u2500\u2500\u2500\u2500\u2500\u2500\u2500\u2500\u2500\u2500\u2500\u2500\u2500\u2500\u2500\u2500\u2500\u2500\u2500\u2500 = \u2500\u2500\u2500(\u03c6\u2081(t))\n",
        "                                      2       \n",
        "                                    dt        "
       ]
      }
     ],
     "prompt_number": 14
    },
    {
     "cell_type": "code",
     "collapsed": false,
     "input": [
      "pd2 = solve(eq2, phi_2.diff(t).diff(t))[0] # solution is given as a list\n",
      "Eq(pd2, phi_2.diff(t).diff(t)) # displaying the equality we now know to be true"
     ],
     "language": "python",
     "metadata": {},
     "outputs": [
      {
       "latex": [
        "$$\\frac{1}{l_{2}} \\left(g \\sin{\\left (\\phi_{2}{\\left (t \\right )} \\right )} + l_{1} \\sin{\\left (\\phi_{1}{\\left (t \\right )} - \\phi_{2}{\\left (t \\right )} \\right )} \\left(\\frac{d}{d t} \\phi_{1}{\\left (t \\right )}\\right)^{2} - l_{1} \\cos{\\left (\\phi_{1}{\\left (t \\right )} - \\phi_{2}{\\left (t \\right )} \\right )} \\frac{d^{2}}{d t^{2}}  \\phi_{1}{\\left (t \\right )}\\right) = \\frac{d^{2}}{d t^{2}}  \\phi_{2}{\\left (t \\right )}$$"
       ],
       "metadata": {},
       "output_type": "pyout",
       "png": "[encoded data removed]",
       "prompt_number": 15,
       "text": [
        "                                                2                           2 \n",
        "                                     \u239bd        \u239e                           d  \n",
        "g\u22c5sin(\u03c6\u2082(t)) + l\u2081\u22c5sin(\u03c6\u2081(t) - \u03c6\u2082(t))\u22c5\u239c\u2500\u2500(\u03c6\u2081(t))\u239f  - l\u2081\u22c5cos(\u03c6\u2081(t) - \u03c6\u2082(t))\u22c5\u2500\u2500\u2500(\n",
        "                                     \u239ddt       \u23a0                            2 \n",
        "                                                                          dt  \n",
        "\u2500\u2500\u2500\u2500\u2500\u2500\u2500\u2500\u2500\u2500\u2500\u2500\u2500\u2500\u2500\u2500\u2500\u2500\u2500\u2500\u2500\u2500\u2500\u2500\u2500\u2500\u2500\u2500\u2500\u2500\u2500\u2500\u2500\u2500\u2500\u2500\u2500\u2500\u2500\u2500\u2500\u2500\u2500\u2500\u2500\u2500\u2500\u2500\u2500\u2500\u2500\u2500\u2500\u2500\u2500\u2500\u2500\u2500\u2500\u2500\u2500\u2500\u2500\u2500\u2500\u2500\u2500\u2500\u2500\u2500\u2500\u2500\u2500\u2500\u2500\u2500\u2500\u2500\n",
        "                                         l\u2082                                   \n",
        "                                                                              \n",
        "\n",
        "                   \n",
        "                   \n",
        "\u03c6\u2081(t))             \n",
        "           2       \n",
        "          d        \n",
        "\u2500\u2500\u2500\u2500\u2500\u2500 = \u2500\u2500\u2500(\u03c6\u2082(t))\n",
        "           2       \n",
        "         dt        "
       ]
      }
     ],
     "prompt_number": 15
    },
    {
     "cell_type": "markdown",
     "metadata": {},
     "source": [
      "Substituting in $\\frac{d^2 \\phi_1}{dt^2}$ and $\\frac{d^2 \\phi_2}{dt^2}$ with their respective expressions"
     ]
    },
    {
     "cell_type": "code",
     "collapsed": false,
     "input": [
      "pd3 = pd1.subs(phi_2.diff(t).diff(t), pd2)\n",
      "pd4 = pd2.subs(phi_1.diff(t).diff(t), pd1)"
     ],
     "language": "python",
     "metadata": {},
     "outputs": [],
     "prompt_number": 16
    },
    {
     "cell_type": "markdown",
     "metadata": {},
     "source": [
      "Restatement of the earlier equations, now with the second dervative replaced on the left hand side."
     ]
    },
    {
     "cell_type": "code",
     "collapsed": false,
     "input": [
      "Eq(pd3, phi_1.diff(t).diff(t))"
     ],
     "language": "python",
     "metadata": {},
     "outputs": [
      {
       "latex": [
        "$$\\frac{1}{l_{1} \\left(m_{1} + m_{2}\\right)} \\left(g m_{1} \\sin{\\left (\\phi_{1}{\\left (t \\right )} \\right )} + g m_{2} \\sin{\\left (\\phi_{1}{\\left (t \\right )} \\right )} - l_{2} m_{2} \\sin{\\left (\\phi_{1}{\\left (t \\right )} - \\phi_{2}{\\left (t \\right )} \\right )} \\left(\\frac{d}{d t} \\phi_{2}{\\left (t \\right )}\\right)^{2} - m_{2} \\left(g \\sin{\\left (\\phi_{2}{\\left (t \\right )} \\right )} + l_{1} \\sin{\\left (\\phi_{1}{\\left (t \\right )} - \\phi_{2}{\\left (t \\right )} \\right )} \\left(\\frac{d}{d t} \\phi_{1}{\\left (t \\right )}\\right)^{2} - l_{1} \\cos{\\left (\\phi_{1}{\\left (t \\right )} - \\phi_{2}{\\left (t \\right )} \\right )} \\frac{d^{2}}{d t^{2}}  \\phi_{1}{\\left (t \\right )}\\right) \\cos{\\left (\\phi_{1}{\\left (t \\right )} - \\phi_{2}{\\left (t \\right )} \\right )}\\right) = \\frac{d^{2}}{d t^{2}}  \\phi_{1}{\\left (t \\right )}$$"
       ],
       "metadata": {},
       "output_type": "pyout",
       "png": "[encoded data removed]",
       "prompt_number": 17,
       "text": [
        "                                                                        2     \n",
        "                                                             \u239bd        \u239e      \n",
        "g\u22c5m\u2081\u22c5sin(\u03c6\u2081(t)) + g\u22c5m\u2082\u22c5sin(\u03c6\u2081(t)) - l\u2082\u22c5m\u2082\u22c5sin(\u03c6\u2081(t) - \u03c6\u2082(t))\u22c5\u239c\u2500\u2500(\u03c6\u2082(t))\u239f  - m\u2082\n",
        "                                                             \u239ddt       \u23a0      \n",
        "                                                                              \n",
        "\u2500\u2500\u2500\u2500\u2500\u2500\u2500\u2500\u2500\u2500\u2500\u2500\u2500\u2500\u2500\u2500\u2500\u2500\u2500\u2500\u2500\u2500\u2500\u2500\u2500\u2500\u2500\u2500\u2500\u2500\u2500\u2500\u2500\u2500\u2500\u2500\u2500\u2500\u2500\u2500\u2500\u2500\u2500\u2500\u2500\u2500\u2500\u2500\u2500\u2500\u2500\u2500\u2500\u2500\u2500\u2500\u2500\u2500\u2500\u2500\u2500\u2500\u2500\u2500\u2500\u2500\u2500\u2500\u2500\u2500\u2500\u2500\u2500\u2500\u2500\u2500\u2500\u2500\n",
        "                                                                              \n",
        "                                                                              \n",
        "\n",
        " \u239b                                                2                           \n",
        " \u239c                                     \u239bd        \u239e                           d\n",
        "\u22c5\u239cg\u22c5sin(\u03c6\u2082(t)) + l\u2081\u22c5sin(\u03c6\u2081(t) - \u03c6\u2082(t))\u22c5\u239c\u2500\u2500(\u03c6\u2081(t))\u239f  - l\u2081\u22c5cos(\u03c6\u2081(t) - \u03c6\u2082(t))\u22c5\u2500\u2500\n",
        " \u239c                                     \u239ddt       \u23a0                            \n",
        " \u239d                                                                          dt\n",
        "\u2500\u2500\u2500\u2500\u2500\u2500\u2500\u2500\u2500\u2500\u2500\u2500\u2500\u2500\u2500\u2500\u2500\u2500\u2500\u2500\u2500\u2500\u2500\u2500\u2500\u2500\u2500\u2500\u2500\u2500\u2500\u2500\u2500\u2500\u2500\u2500\u2500\u2500\u2500\u2500\u2500\u2500\u2500\u2500\u2500\u2500\u2500\u2500\u2500\u2500\u2500\u2500\u2500\u2500\u2500\u2500\u2500\u2500\u2500\u2500\u2500\u2500\u2500\u2500\u2500\u2500\u2500\u2500\u2500\u2500\u2500\u2500\u2500\u2500\u2500\u2500\u2500\u2500\n",
        "        l\u2081\u22c5(m\u2081 + m\u2082)                                                          \n",
        "                                                                              \n",
        "\n",
        "2       \u239e                                \n",
        "        \u239f                                \n",
        "\u2500(\u03c6\u2081(t))\u239f\u22c5cos(\u03c6\u2081(t) - \u03c6\u2082(t))             \n",
        "2       \u239f                        2       \n",
        "        \u23a0                       d        \n",
        "\u2500\u2500\u2500\u2500\u2500\u2500\u2500\u2500\u2500\u2500\u2500\u2500\u2500\u2500\u2500\u2500\u2500\u2500\u2500\u2500\u2500\u2500\u2500\u2500\u2500\u2500\u2500\u2500 = \u2500\u2500\u2500(\u03c6\u2081(t))\n",
        "                                 2       \n",
        "                               dt        "
       ]
      }
     ],
     "prompt_number": 17
    },
    {
     "cell_type": "code",
     "collapsed": false,
     "input": [
      "Eq(pd4, phi_2.diff(t).diff(t))"
     ],
     "language": "python",
     "metadata": {},
     "outputs": [
      {
       "latex": [
        "$$\\frac{1}{l_{2}} \\left(g \\sin{\\left (\\phi_{2}{\\left (t \\right )} \\right )} + l_{1} \\sin{\\left (\\phi_{1}{\\left (t \\right )} - \\phi_{2}{\\left (t \\right )} \\right )} \\left(\\frac{d}{d t} \\phi_{1}{\\left (t \\right )}\\right)^{2} - \\frac{1}{m_{1} + m_{2}} \\left(g m_{1} \\sin{\\left (\\phi_{1}{\\left (t \\right )} \\right )} + g m_{2} \\sin{\\left (\\phi_{1}{\\left (t \\right )} \\right )} - l_{2} m_{2} \\sin{\\left (\\phi_{1}{\\left (t \\right )} - \\phi_{2}{\\left (t \\right )} \\right )} \\left(\\frac{d}{d t} \\phi_{2}{\\left (t \\right )}\\right)^{2} - l_{2} m_{2} \\cos{\\left (\\phi_{1}{\\left (t \\right )} - \\phi_{2}{\\left (t \\right )} \\right )} \\frac{d^{2}}{d t^{2}}  \\phi_{2}{\\left (t \\right )}\\right) \\cos{\\left (\\phi_{1}{\\left (t \\right )} - \\phi_{2}{\\left (t \\right )} \\right )}\\right) = \\frac{d^{2}}{d t^{2}}  \\phi_{2}{\\left (t \\right )}$$"
       ],
       "metadata": {},
       "output_type": "pyout",
       "png": "[encoded data removed]",
       "prompt_number": 18,
       "text": [
        "                                                    \u239b                         \n",
        "                                                    \u239c                         \n",
        "                                                    \u239cg\u22c5m\u2081\u22c5sin(\u03c6\u2081(t)) + g\u22c5m\u2082\u22c5si\n",
        "                                                2   \u239c                         \n",
        "                                     \u239bd        \u239e    \u239d                         \n",
        "g\u22c5sin(\u03c6\u2082(t)) + l\u2081\u22c5sin(\u03c6\u2081(t) - \u03c6\u2082(t))\u22c5\u239c\u2500\u2500(\u03c6\u2081(t))\u239f  - \u2500\u2500\u2500\u2500\u2500\u2500\u2500\u2500\u2500\u2500\u2500\u2500\u2500\u2500\u2500\u2500\u2500\u2500\u2500\u2500\u2500\u2500\u2500\u2500\u2500\u2500\n",
        "                                     \u239ddt       \u23a0                              \n",
        "\u2500\u2500\u2500\u2500\u2500\u2500\u2500\u2500\u2500\u2500\u2500\u2500\u2500\u2500\u2500\u2500\u2500\u2500\u2500\u2500\u2500\u2500\u2500\u2500\u2500\u2500\u2500\u2500\u2500\u2500\u2500\u2500\u2500\u2500\u2500\u2500\u2500\u2500\u2500\u2500\u2500\u2500\u2500\u2500\u2500\u2500\u2500\u2500\u2500\u2500\u2500\u2500\u2500\u2500\u2500\u2500\u2500\u2500\u2500\u2500\u2500\u2500\u2500\u2500\u2500\u2500\u2500\u2500\u2500\u2500\u2500\u2500\u2500\u2500\u2500\u2500\u2500\u2500\n",
        "                                                                              \n",
        "                                                                              \n",
        "\n",
        "                                               2                              \n",
        "                                    \u239bd        \u239e                              d\n",
        "n(\u03c6\u2081(t)) - l\u2082\u22c5m\u2082\u22c5sin(\u03c6\u2081(t) - \u03c6\u2082(t))\u22c5\u239c\u2500\u2500(\u03c6\u2082(t))\u239f  - l\u2082\u22c5m\u2082\u22c5cos(\u03c6\u2081(t) - \u03c6\u2082(t))\u22c5\u2500\u2500\n",
        "                                    \u239ddt       \u23a0                               \n",
        "                                                                            dt\n",
        "\u2500\u2500\u2500\u2500\u2500\u2500\u2500\u2500\u2500\u2500\u2500\u2500\u2500\u2500\u2500\u2500\u2500\u2500\u2500\u2500\u2500\u2500\u2500\u2500\u2500\u2500\u2500\u2500\u2500\u2500\u2500\u2500\u2500\u2500\u2500\u2500\u2500\u2500\u2500\u2500\u2500\u2500\u2500\u2500\u2500\u2500\u2500\u2500\u2500\u2500\u2500\u2500\u2500\u2500\u2500\u2500\u2500\u2500\u2500\u2500\u2500\u2500\u2500\u2500\u2500\u2500\u2500\u2500\u2500\u2500\u2500\u2500\u2500\u2500\u2500\u2500\u2500\u2500\n",
        "                                    m\u2081 + m\u2082                                   \n",
        "\u2500\u2500\u2500\u2500\u2500\u2500\u2500\u2500\u2500\u2500\u2500\u2500\u2500\u2500\u2500\u2500\u2500\u2500\u2500\u2500\u2500\u2500\u2500\u2500\u2500\u2500\u2500\u2500\u2500\u2500\u2500\u2500\u2500\u2500\u2500\u2500\u2500\u2500\u2500\u2500\u2500\u2500\u2500\u2500\u2500\u2500\u2500\u2500\u2500\u2500\u2500\u2500\u2500\u2500\u2500\u2500\u2500\u2500\u2500\u2500\u2500\u2500\u2500\u2500\u2500\u2500\u2500\u2500\u2500\u2500\u2500\u2500\u2500\u2500\u2500\u2500\u2500\u2500\n",
        "             l\u2082                                                               \n",
        "                                                                              \n",
        "\n",
        "2       \u239e                                \n",
        "        \u239f                                \n",
        "\u2500(\u03c6\u2082(t))\u239f\u22c5cos(\u03c6\u2081(t) - \u03c6\u2082(t))             \n",
        "2       \u239f                                \n",
        "        \u23a0                                \n",
        "\u2500\u2500\u2500\u2500\u2500\u2500\u2500\u2500\u2500\u2500\u2500\u2500\u2500\u2500\u2500\u2500\u2500\u2500\u2500\u2500\u2500\u2500\u2500\u2500\u2500\u2500\u2500\u2500     2       \n",
        "                                d        \n",
        "\u2500\u2500\u2500\u2500\u2500\u2500\u2500\u2500\u2500\u2500\u2500\u2500\u2500\u2500\u2500\u2500\u2500\u2500\u2500\u2500\u2500\u2500\u2500\u2500\u2500\u2500\u2500\u2500 = \u2500\u2500\u2500(\u03c6\u2082(t))\n",
        "                                 2       \n",
        "                               dt        "
       ]
      }
     ],
     "prompt_number": 18
    },
    {
     "cell_type": "code",
     "collapsed": false,
     "input": [
      "print pd3\n",
      "print \"\\n\"\n",
      "print pd4"
     ],
     "language": "python",
     "metadata": {},
     "outputs": [
      {
       "output_type": "stream",
       "stream": "stdout",
       "text": [
        "(g*m_1*sin(phi_1(t)) + g*m_2*sin(phi_1(t)) - l_2*m_2*sin(phi_1(t) - phi_2(t))*Derivative(phi_2(t), t)**2 - m_2*(g*sin(phi_2(t)) + l_1*sin(phi_1(t) - phi_2(t))*Derivative(phi_1(t), t)**2 - l_1*cos(phi_1(t) - phi_2(t))*Derivative(phi_1(t), t, t))*cos(phi_1(t) - phi_2(t)))/(l_1*(m_1 + m_2))\n",
        "\n",
        "\n",
        "(g*sin(phi_2(t)) + l_1*sin(phi_1(t) - phi_2(t))*Derivative(phi_1(t), t)**2 - (g*m_1*sin(phi_1(t)) + g*m_2*sin(phi_1(t)) - l_2*m_2*sin(phi_1(t) - phi_2(t))*Derivative(phi_2(t), t)**2 - l_2*m_2*cos(phi_1(t) - phi_2(t))*Derivative(phi_2(t), t, t))*cos(phi_1(t) - phi_2(t))/(m_1 + m_2))/l_2\n"
       ]
      }
     ],
     "prompt_number": 23
    },
    {
     "cell_type": "markdown",
     "metadata": {},
     "source": [
      "Defining the python function that will serve as our differential equation. In the function, $z = \\left[\\phi_1, \\phi_2, \\frac{d \\phi_1}{dt}, \\frac{d \\phi_2}{dt}\\right]$."
     ]
    },
    {
     "cell_type": "code",
     "collapsed": false,
     "input": [
      "subs_list = [\n",
      "            (m_1, .5), # mass of m_1 in kg\n",
      "            (m_2, .5), # mass of m_2 in kg\n",
      "            (g, 9.8), # accel. due to gravity in m/s^2\n",
      "            (l_1, .5), # length of l_1 in m\n",
      "            (l_1, .5), # length of l_1 in m\n",
      "        ];\n",
      "pd3.subs(subs_list)\n",
      "pd4.subs(subs_list)"
     ],
     "language": "python",
     "metadata": {},
     "outputs": [],
     "prompt_number": 26
    },
    {
     "cell_type": "code",
     "collapsed": false,
     "input": [
      "def deriv_z(z,t):\n",
      "    z_list = [\n",
      "                (phi_1(t), z[0]),\n",
      "                (phi_2(t), z[1]),\n",
      "                (Derivative(phi_1(t),t), z[2]),\n",
      "                (Derivative(phi_2(t),t), z[3]),\n",
      "            ];\n",
      "    pd3.subs(z_list)\n",
      "    pd4.subs(z_list)"
     ],
     "language": "python",
     "metadata": {},
     "outputs": [],
     "prompt_number": 25
    },
    {
     "cell_type": "code",
     "collapsed": false,
     "input": [],
     "language": "python",
     "metadata": {},
     "outputs": []
    },
    {
     "cell_type": "heading",
     "level": 3,
     "metadata": {},
     "source": [
      "The Hamiltonian Approach"
     ]
    },
    {
     "cell_type": "markdown",
     "metadata": {},
     "source": [
      "Here we're defining $\\mathcal{H}$ (known as the Hamiltonian)\n",
      "\n",
      "$ \\mathcal{H} = \\sum q_i p_i - L$\n",
      "\n",
      "And using the following equations\n",
      "\n",
      " $\\large\\frac{\\partial p_i}{\\partial t} = - \\frac{\\partial \\mathcal{H}}{\\partial q_i}$\n",
      "\n",
      "$\\large\\frac{\\partial q_i}{\\partial t} =  \\frac{\\partial \\mathcal{H}}{\\partial p_i}$\n",
      "\n",
      "Where $q_i$ refers to each of our generalized coordinates, in this case, $\\phi_1$ and $\\phi_2$, and $p_i = \\large\\frac{\\partial \\mathcal{L}}{\\partial q_i}$"
     ]
    },
    {
     "cell_type": "code",
     "collapsed": false,
     "input": [
      "H = symbols(\"\\mathcal{H}\")\n",
      "H = phi_ + U\n",
      "H = simplify(H)\n",
      "H"
     ],
     "language": "python",
     "metadata": {},
     "outputs": []
    },
    {
     "cell_type": "code",
     "collapsed": false,
     "input": [
      "simplify(L.diff(phi_1.diff(t))), simplify(L.diff(phi_2.diff(t)))"
     ],
     "language": "python",
     "metadata": {},
     "outputs": []
    },
    {
     "cell_type": "code",
     "collapsed": false,
     "input": [
      "p_1, p_2 = symbols(\"p_1 p_2\")"
     ],
     "language": "python",
     "metadata": {},
     "outputs": []
    },
    {
     "cell_type": "code",
     "collapsed": false,
     "input": [
      "H.subs(simplify(L.diff(phi_1.diff(t))).expand(), p_1)"
     ],
     "language": "python",
     "metadata": {},
     "outputs": []
    },
    {
     "cell_type": "code",
     "collapsed": false,
     "input": [
      "p_1 = L.diff(phi_1.diff(t))\n",
      "p_2 = L.diff(phi_2.diff(t))\n",
      "simplify(p_1), simplify(p_2)"
     ],
     "language": "python",
     "metadata": {},
     "outputs": []
    },
    {
     "cell_type": "code",
     "collapsed": false,
     "input": [
      "eq1_1 =p_1.diff(t) + H.diff(phi_1)\n",
      "simplify(eq1_1)"
     ],
     "language": "python",
     "metadata": {},
     "outputs": []
    },
    {
     "cell_type": "code",
     "collapsed": false,
     "input": [
      "eq1_2 = p_2.diff(t) + H.diff(phi_2)"
     ],
     "language": "python",
     "metadata": {},
     "outputs": []
    },
    {
     "cell_type": "markdown",
     "metadata": {},
     "source": [
      "This doesn't appear to be working for some reason..."
     ]
    },
    {
     "cell_type": "code",
     "collapsed": false,
     "input": [
      "eq2_1 = phi_1.diff(t) - H.diff(p_1)\n",
      "eq2_2 = phi_2.diff(t) - H.diff(p_2)\n",
      "simplify(eq2_1), simplify(eq2_2)"
     ],
     "language": "python",
     "metadata": {},
     "outputs": []
    },
    {
     "cell_type": "code",
     "collapsed": false,
     "input": [],
     "language": "python",
     "metadata": {},
     "outputs": []
    }
   ],
   "metadata": {}
  }
 ]
}