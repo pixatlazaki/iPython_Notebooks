{
 "metadata": {
  "name": "",
  "signature": "sha256:f550b65f1196ffa05f5173e6275e39efd6a0753e5a086cf27b5cc1c2089f5cc5"
 },
 "nbformat": 3,
 "nbformat_minor": 0,
 "worksheets": [
  {
   "cells": [
    {
     "cell_type": "heading",
     "level": 1,
     "metadata": {},
     "source": [
      "Finding the equations of motion for a Double Pendulum using Analytic Mechanics\n",
      "<br />"
     ]
    },
    {
     "cell_type": "code",
     "collapsed": false,
     "input": [
      "from __future__ import division\n",
      "from sympy import *\n",
      "init_session()"
     ],
     "language": "python",
     "metadata": {},
     "outputs": [
      {
       "output_type": "stream",
       "stream": "stdout",
       "text": [
        "IPython console for SymPy 0.7.5 (Python 2.7.2-64-bit) (ground types: python)\n",
        "\n",
        "These commands were executed:\n",
        ">>> from __future__ import division\n",
        ">>> from sympy import *\n",
        ">>> x, y, z, t = symbols('x y z t')\n",
        ">>> k, m, n = symbols('k m n', integer=True)\n",
        ">>> f, g, h = symbols('f g h', cls=Function)\n",
        "\n",
        "Documentation can be found at http://www.sympy.org\n"
       ]
      },
      {
       "output_type": "stream",
       "stream": "stderr",
       "text": [
        "WARNING: Hook shutdown_hook is deprecated. Use the atexit module instead.\n"
       ]
      }
     ],
     "prompt_number": 77
    },
    {
     "cell_type": "code",
     "collapsed": false,
     "input": [
      "from sympy.abc import *"
     ],
     "language": "python",
     "metadata": {},
     "outputs": [],
     "prompt_number": 78
    },
    {
     "cell_type": "code",
     "collapsed": false,
     "input": [
      "r_1,r_2,l_1,l_2, m_1, m_2, rdot_1, rdot_2,g = symbols(\"r_1 r_2 l_1 l_2 m_1 m_2 \\dot{r_1} \\dot{r_2} g\")\n",
      "phi_1, phi_2 = symbols(\"phi_1 phi_2\", cls=Function)"
     ],
     "language": "python",
     "metadata": {},
     "outputs": [],
     "prompt_number": 79
    },
    {
     "cell_type": "code",
     "collapsed": false,
     "input": [
      "phi_1 = phi_1(t)\n",
      "phi_2 = phi_2(t)"
     ],
     "language": "python",
     "metadata": {},
     "outputs": [],
     "prompt_number": 80
    },
    {
     "cell_type": "code",
     "collapsed": false,
     "input": [
      "r_1 = Matrix([l_1 * sin(phi_1), -l_1 * cos(phi_1)])\n",
      "rdot_1 = r_1.diff(t)\n",
      "rdot_1"
     ],
     "language": "python",
     "metadata": {},
     "outputs": [
      {
       "latex": [
        "$$\\left[\\begin{matrix}l_{1} \\cos{\\left (\\phi_{1}{\\left (t \\right )} \\right )} \\frac{d}{d t} \\phi_{1}{\\left (t \\right )}\\\\l_{1} \\sin{\\left (\\phi_{1}{\\left (t \\right )} \\right )} \\frac{d}{d t} \\phi_{1}{\\left (t \\right )}\\end{matrix}\\right]$$"
       ],
       "metadata": {},
       "output_type": "pyout",
       "png": "[encoded data removed]",
       "prompt_number": 81,
       "text": [
        "\u23a1              d        \u23a4\n",
        "\u23a2l\u2081\u22c5cos(\u03c6\u2081(t))\u22c5\u2500\u2500(\u03c6\u2081(t))\u23a5\n",
        "\u23a2              dt       \u23a5\n",
        "\u23a2                       \u23a5\n",
        "\u23a2              d        \u23a5\n",
        "\u23a2l\u2081\u22c5sin(\u03c6\u2081(t))\u22c5\u2500\u2500(\u03c6\u2081(t))\u23a5\n",
        "\u23a3              dt       \u23a6"
       ]
      }
     ],
     "prompt_number": 81
    },
    {
     "cell_type": "code",
     "collapsed": false,
     "input": [
      "r_2 = Matrix([r_1[0] + l_2 * sin(phi_2), r_1[1] -l_2 * cos(phi_2)])\n",
      "rdot_2 = r_2.diff(t)\n",
      "rdot_2\n"
     ],
     "language": "python",
     "metadata": {},
     "outputs": [
      {
       "latex": [
        "$$\\left[\\begin{matrix}l_{1} \\cos{\\left (\\phi_{1}{\\left (t \\right )} \\right )} \\frac{d}{d t} \\phi_{1}{\\left (t \\right )} + l_{2} \\cos{\\left (\\phi_{2}{\\left (t \\right )} \\right )} \\frac{d}{d t} \\phi_{2}{\\left (t \\right )}\\\\l_{1} \\sin{\\left (\\phi_{1}{\\left (t \\right )} \\right )} \\frac{d}{d t} \\phi_{1}{\\left (t \\right )} + l_{2} \\sin{\\left (\\phi_{2}{\\left (t \\right )} \\right )} \\frac{d}{d t} \\phi_{2}{\\left (t \\right )}\\end{matrix}\\right]$$"
       ],
       "metadata": {},
       "output_type": "pyout",
       "png": "[encoded data removed]",
       "prompt_number": 82,
       "text": [
        "\u23a1              d                         d        \u23a4\n",
        "\u23a2l\u2081\u22c5cos(\u03c6\u2081(t))\u22c5\u2500\u2500(\u03c6\u2081(t)) + l\u2082\u22c5cos(\u03c6\u2082(t))\u22c5\u2500\u2500(\u03c6\u2082(t))\u23a5\n",
        "\u23a2              dt                        dt       \u23a5\n",
        "\u23a2                                                 \u23a5\n",
        "\u23a2              d                         d        \u23a5\n",
        "\u23a2l\u2081\u22c5sin(\u03c6\u2081(t))\u22c5\u2500\u2500(\u03c6\u2081(t)) + l\u2082\u22c5sin(\u03c6\u2082(t))\u22c5\u2500\u2500(\u03c6\u2082(t))\u23a5\n",
        "\u23a3              dt                        dt       \u23a6"
       ]
      }
     ],
     "prompt_number": 82
    },
    {
     "cell_type": "code",
     "collapsed": false,
     "input": [
      "simplify(rdot_1.T * rdot_1), simplify(rdot_2.T * rdot_2)"
     ],
     "language": "python",
     "metadata": {},
     "outputs": [
      {
       "latex": [
        "$$\\begin{pmatrix}\\left[\\begin{matrix}l_{1}^{2} \\left(\\frac{d}{d t} \\phi_{1}{\\left (t \\right )}\\right)^{2}\\end{matrix}\\right], & \\left[\\begin{matrix}l_{1}^{2} \\left(\\frac{d}{d t} \\phi_{1}{\\left (t \\right )}\\right)^{2} + 2 l_{1} l_{2} \\cos{\\left (\\phi_{1}{\\left (t \\right )} - \\phi_{2}{\\left (t \\right )} \\right )} \\frac{d}{d t} \\phi_{1}{\\left (t \\right )} \\frac{d}{d t} \\phi_{2}{\\left (t \\right )} + l_{2}^{2} \\left(\\frac{d}{d t} \\phi_{2}{\\left (t \\right )}\\right)^{2}\\end{matrix}\\right]\\end{pmatrix}$$"
       ],
       "metadata": {},
       "output_type": "pyout",
       "png": "[encoded data removed]",
       "prompt_number": 83,
       "text": [
        "\u239b\u23a1               2\u23a4  \u23a1               2                                        \n",
        "\u239c\u23a2  2 \u239bd        \u239e \u23a5  \u23a2  2 \u239bd        \u239e                               d         \n",
        "\u239c\u23a2l\u2081 \u22c5\u239c\u2500\u2500(\u03c6\u2081(t))\u239f \u23a5, \u23a2l\u2081 \u22c5\u239c\u2500\u2500(\u03c6\u2081(t))\u239f  + 2\u22c5l\u2081\u22c5l\u2082\u22c5cos(\u03c6\u2081(t) - \u03c6\u2082(t))\u22c5\u2500\u2500(\u03c6\u2081(t))\u22c5\n",
        "\u239d\u23a3    \u239ddt       \u23a0 \u23a6  \u23a3    \u239ddt       \u23a0                               dt        \n",
        "\n",
        "                           2\u23a4\u239e\n",
        "d             2 \u239bd        \u239e \u23a5\u239f\n",
        "\u2500\u2500(\u03c6\u2082(t)) + l\u2082 \u22c5\u239c\u2500\u2500(\u03c6\u2082(t))\u239f \u23a5\u239f\n",
        "dt              \u239ddt       \u23a0 \u23a6\u23a0"
       ]
      }
     ],
     "prompt_number": 83
    },
    {
     "cell_type": "code",
     "collapsed": false,
     "input": [
      "T = (1/2) * m_1 * rdot_1.T * rdot_1 + (1/2) * m_2 * rdot_2.T * rdot_2\n",
      "T = T[0]"
     ],
     "language": "python",
     "metadata": {},
     "outputs": [],
     "prompt_number": 84
    },
    {
     "cell_type": "code",
     "collapsed": false,
     "input": [
      "U = -g * ((m_1 * r_1[1]) + (m_2 * r_2[1]))"
     ],
     "language": "python",
     "metadata": {},
     "outputs": [],
     "prompt_number": 85
    },
    {
     "cell_type": "heading",
     "level": 3,
     "metadata": {},
     "source": [
      "The Lagrangian Approach"
     ]
    },
    {
     "cell_type": "markdown",
     "metadata": {},
     "source": [
      "Here we're defining $\\mathcal{L}$ (known as the Lagrangian)\n",
      "\n",
      "$ \\mathcal{L} = T - U $\n",
      "\n",
      "And using the following equation\n",
      "\n",
      "$\\large\\frac{\\partial \\mathcal{L}}{\\partial q_i} - \\frac{d}{dt}\\left(\\frac{\\partial \\mathcal{L}}{\\partial \\dot{q}_i}\\right) = 0$\n",
      "\n",
      "Where $q_i$ refers to each of our generalized coordinates, in this case, $\\phi_1$ and $\\phi_2$."
     ]
    },
    {
     "cell_type": "code",
     "collapsed": false,
     "input": [
      "L = symbols(\"\\mathcal{L}\")\n",
      "L = T - U"
     ],
     "language": "python",
     "metadata": {},
     "outputs": [],
     "prompt_number": 86
    },
    {
     "cell_type": "code",
     "collapsed": false,
     "input": [
      "simplify(L.diff(phi_1) - L.diff(phi_1.diff(t)).diff(t))"
     ],
     "language": "python",
     "metadata": {},
     "outputs": [
      {
       "latex": [
        "$$1.0 l_{1} \\left(g m_{1} \\sin{\\left (\\phi_{1}{\\left (t \\right )} \\right )} + g m_{2} \\sin{\\left (\\phi_{1}{\\left (t \\right )} \\right )} - l_{1} m_{1} \\frac{d^{2}}{d t^{2}}  \\phi_{1}{\\left (t \\right )} - l_{1} m_{2} \\frac{d^{2}}{d t^{2}}  \\phi_{1}{\\left (t \\right )} - l_{2} m_{2} \\sin{\\left (\\phi_{1}{\\left (t \\right )} - \\phi_{2}{\\left (t \\right )} \\right )} \\left(\\frac{d}{d t} \\phi_{2}{\\left (t \\right )}\\right)^{2} - l_{2} m_{2} \\cos{\\left (\\phi_{1}{\\left (t \\right )} - \\phi_{2}{\\left (t \\right )} \\right )} \\frac{d^{2}}{d t^{2}}  \\phi_{2}{\\left (t \\right )}\\right)$$"
       ],
       "metadata": {},
       "output_type": "pyout",
       "png": "[encoded data removed]",
       "prompt_number": 87,
       "text": [
        "       \u239b                                            2                  2      \n",
        "       \u239c                                           d                  d       \n",
        "1.0\u22c5l\u2081\u22c5\u239cg\u22c5m\u2081\u22c5sin(\u03c6\u2081(t)) + g\u22c5m\u2082\u22c5sin(\u03c6\u2081(t)) - l\u2081\u22c5m\u2081\u22c5\u2500\u2500\u2500(\u03c6\u2081(t)) - l\u2081\u22c5m\u2082\u22c5\u2500\u2500\u2500(\u03c6\u2081(t)\n",
        "       \u239c                                            2                  2      \n",
        "       \u239d                                          dt                 dt       \n",
        "\n",
        "                                        2                              2      \n",
        "                             \u239bd        \u239e                              d       \n",
        ") - l\u2082\u22c5m\u2082\u22c5sin(\u03c6\u2081(t) - \u03c6\u2082(t))\u22c5\u239c\u2500\u2500(\u03c6\u2082(t))\u239f  - l\u2082\u22c5m\u2082\u22c5cos(\u03c6\u2081(t) - \u03c6\u2082(t))\u22c5\u2500\u2500\u2500(\u03c6\u2082(t)\n",
        "                             \u239ddt       \u23a0                               2      \n",
        "                                                                     dt       \n",
        "\n",
        " \u239e\n",
        " \u239f\n",
        ")\u239f\n",
        " \u239f\n",
        " \u23a0"
       ]
      }
     ],
     "prompt_number": 87
    },
    {
     "cell_type": "code",
     "collapsed": false,
     "input": [
      "simplify(L.diff(phi_2) - L.diff(phi_2.diff(t)).diff(t))"
     ],
     "language": "python",
     "metadata": {},
     "outputs": [
      {
       "latex": [
        "$$1.0 l_{2} m_{2} \\left(g \\sin{\\left (\\phi_{2}{\\left (t \\right )} \\right )} + l_{1} \\sin{\\left (\\phi_{1}{\\left (t \\right )} - \\phi_{2}{\\left (t \\right )} \\right )} \\left(\\frac{d}{d t} \\phi_{1}{\\left (t \\right )}\\right)^{2} - l_{1} \\cos{\\left (\\phi_{1}{\\left (t \\right )} - \\phi_{2}{\\left (t \\right )} \\right )} \\frac{d^{2}}{d t^{2}}  \\phi_{1}{\\left (t \\right )} - l_{2} \\frac{d^{2}}{d t^{2}}  \\phi_{2}{\\left (t \\right )}\\right)$$"
       ],
       "metadata": {},
       "output_type": "pyout",
       "png": "[encoded data removed]",
       "prompt_number": 88,
       "text": [
        "          \u239b                                                2                  \n",
        "          \u239c                                     \u239bd        \u239e                   \n",
        "1.0\u22c5l\u2082\u22c5m\u2082\u22c5\u239cg\u22c5sin(\u03c6\u2082(t)) + l\u2081\u22c5sin(\u03c6\u2081(t) - \u03c6\u2082(t))\u22c5\u239c\u2500\u2500(\u03c6\u2081(t))\u239f  - l\u2081\u22c5cos(\u03c6\u2081(t) - \n",
        "          \u239c                                     \u239ddt       \u23a0                   \n",
        "          \u239d                                                                   \n",
        "\n",
        "         2               2       \u239e\n",
        "        d               d        \u239f\n",
        "\u03c6\u2082(t))\u22c5\u2500\u2500\u2500(\u03c6\u2081(t)) - l\u2082\u22c5\u2500\u2500\u2500(\u03c6\u2082(t))\u239f\n",
        "         2               2       \u239f\n",
        "       dt              dt        \u23a0"
       ]
      }
     ],
     "prompt_number": 88
    },
    {
     "cell_type": "heading",
     "level": 3,
     "metadata": {},
     "source": [
      "The Hamiltonian Approach"
     ]
    },
    {
     "cell_type": "markdown",
     "metadata": {},
     "source": [
      "Here we're defining $\\mathcal{H}$ (known as the Hamiltonian)\n",
      "\n",
      "$ \\mathcal{H} = T + U $\n",
      "\n",
      "And using the following equations\n",
      "\n",
      " $\\large\\frac{\\partial p_i}{\\partial t} = - \\frac{\\partial \\mathcal{H}}{\\partial q_i}$\n",
      "\n",
      "$\\large\\frac{\\partial q_i}{\\partial t} =  \\frac{\\partial \\mathcal{H}}{\\partial p_i}$\n",
      "\n",
      "Where $q_i$ refers to each of our generalized coordinates, in this case, $\\phi_1$ and $\\phi_2$, and $p_i = \\large\\frac{\\partial \\mathcal{L}}{\\partial q_i}$"
     ]
    },
    {
     "cell_type": "code",
     "collapsed": false,
     "input": [
      "H = symbols(\"\\mathcal{H}\")\n",
      "H = T + U"
     ],
     "language": "python",
     "metadata": {},
     "outputs": [],
     "prompt_number": 89
    },
    {
     "cell_type": "code",
     "collapsed": false,
     "input": [
      "p_1, p_2 = symbols(\"p_1 p_2\")"
     ],
     "language": "python",
     "metadata": {},
     "outputs": [],
     "prompt_number": 90
    },
    {
     "cell_type": "code",
     "collapsed": false,
     "input": [
      "p_1 = L.diff(phi_1.diff(t))\n",
      "p_2 = L.diff(phi_2.diff(t))"
     ],
     "language": "python",
     "metadata": {},
     "outputs": [],
     "prompt_number": 91
    },
    {
     "cell_type": "code",
     "collapsed": false,
     "input": [
      "simplify(p_1), simplify(p_2)"
     ],
     "language": "python",
     "metadata": {},
     "outputs": [
      {
       "latex": [
        "$$\\begin{pmatrix}1.0 l_{1} \\left(l_{1} m_{1} \\frac{d}{d t} \\phi_{1}{\\left (t \\right )} + l_{1} m_{2} \\frac{d}{d t} \\phi_{1}{\\left (t \\right )} + l_{2} m_{2} \\cos{\\left (\\phi_{1}{\\left (t \\right )} - \\phi_{2}{\\left (t \\right )} \\right )} \\frac{d}{d t} \\phi_{2}{\\left (t \\right )}\\right), & 1.0 l_{2} m_{2} \\left(l_{1} \\cos{\\left (\\phi_{1}{\\left (t \\right )} - \\phi_{2}{\\left (t \\right )} \\right )} \\frac{d}{d t} \\phi_{1}{\\left (t \\right )} + l_{2} \\frac{d}{d t} \\phi_{2}{\\left (t \\right )}\\right)\\end{pmatrix}$$"
       ],
       "metadata": {},
       "output_type": "pyout",
       "png": "[encoded data removed]",
       "prompt_number": 92,
       "text": [
        "\u239b       \u239b      d                 d                                    d       \n",
        "\u239c1.0\u22c5l\u2081\u22c5\u239cl\u2081\u22c5m\u2081\u22c5\u2500\u2500(\u03c6\u2081(t)) + l\u2081\u22c5m\u2082\u22c5\u2500\u2500(\u03c6\u2081(t)) + l\u2082\u22c5m\u2082\u22c5cos(\u03c6\u2081(t) - \u03c6\u2082(t))\u22c5\u2500\u2500(\u03c6\u2082(t)\n",
        "\u239d       \u239d      dt                dt                                   dt      \n",
        "\n",
        " \u239e            \u239b                      d              d        \u239e\u239e\n",
        ")\u239f, 1.0\u22c5l\u2082\u22c5m\u2082\u22c5\u239cl\u2081\u22c5cos(\u03c6\u2081(t) - \u03c6\u2082(t))\u22c5\u2500\u2500(\u03c6\u2081(t)) + l\u2082\u22c5\u2500\u2500(\u03c6\u2082(t))\u239f\u239f\n",
        " \u23a0            \u239d                      dt             dt       \u23a0\u23a0"
       ]
      }
     ],
     "prompt_number": 92
    },
    {
     "cell_type": "code",
     "collapsed": false,
     "input": [
      "eq1_1 = p_1.diff(t) + H.diff(phi_1)"
     ],
     "language": "python",
     "metadata": {},
     "outputs": [],
     "prompt_number": 93
    },
    {
     "cell_type": "code",
     "collapsed": false,
     "input": [
      "eq1_2 = p_2.diff(t) + H.diff(phi_2)"
     ],
     "language": "python",
     "metadata": {},
     "outputs": [],
     "prompt_number": 94
    },
    {
     "cell_type": "code",
     "collapsed": false,
     "input": [
      "p_1 = simplify(p_1)\n",
      "p_2 = simplify(p_2)"
     ],
     "language": "python",
     "metadata": {},
     "outputs": [],
     "prompt_number": 95
    },
    {
     "cell_type": "markdown",
     "metadata": {},
     "source": [
      "This doesn't appear to be working for some reason..."
     ]
    },
    {
     "cell_type": "code",
     "collapsed": false,
     "input": [
      "eq2_1 = phi_1.diff(t) - H.diff(p_1)\n",
      "eq2_2 = phi_2.diff(t) - H.diff(p_2)"
     ],
     "language": "python",
     "metadata": {},
     "outputs": [
      {
       "ename": "ValueError",
       "evalue": "\nCan't differentiate wrt the variable:\n1.0*l_1*(l_1*m_1*Derivative(phi_1(t), t) +\nl_1*m_2*Derivative(phi_1(t), t) + l_2*m_2*cos(phi_1(t) -\nphi_2(t))*Derivative(phi_2(t), t)), 1",
       "output_type": "pyerr",
       "traceback": [
        "\u001b[0;31m---------------------------------------------------------------------------\u001b[0m\n\u001b[0;31mValueError\u001b[0m                                Traceback (most recent call last)",
        "\u001b[0;32m<ipython-input-96-83bfafadd08f>\u001b[0m in \u001b[0;36m<module>\u001b[0;34m()\u001b[0m\n\u001b[0;32m----> 1\u001b[0;31m \u001b[0meq2_1\u001b[0m \u001b[0;34m=\u001b[0m \u001b[0mphi_1\u001b[0m\u001b[0;34m.\u001b[0m\u001b[0mdiff\u001b[0m\u001b[0;34m(\u001b[0m\u001b[0mt\u001b[0m\u001b[0;34m)\u001b[0m \u001b[0;34m-\u001b[0m \u001b[0mH\u001b[0m\u001b[0;34m.\u001b[0m\u001b[0mdiff\u001b[0m\u001b[0;34m(\u001b[0m\u001b[0mp_1\u001b[0m\u001b[0;34m)\u001b[0m\u001b[0;34m\u001b[0m\u001b[0m\n\u001b[0m\u001b[1;32m      2\u001b[0m \u001b[0meq2_2\u001b[0m \u001b[0;34m=\u001b[0m \u001b[0mphi_2\u001b[0m\u001b[0;34m.\u001b[0m\u001b[0mdiff\u001b[0m\u001b[0;34m(\u001b[0m\u001b[0mt\u001b[0m\u001b[0;34m)\u001b[0m \u001b[0;34m-\u001b[0m \u001b[0mH\u001b[0m\u001b[0;34m.\u001b[0m\u001b[0mdiff\u001b[0m\u001b[0;34m(\u001b[0m\u001b[0mp_2\u001b[0m\u001b[0;34m)\u001b[0m\u001b[0;34m\u001b[0m\u001b[0m\n",
        "\u001b[0;32m/Library/Python/2.7/site-packages/sympy/core/expr.pyc\u001b[0m in \u001b[0;36mdiff\u001b[0;34m(self, *symbols, **assumptions)\u001b[0m\n\u001b[1;32m   2773\u001b[0m         \u001b[0mnew_symbols\u001b[0m \u001b[0;34m=\u001b[0m \u001b[0mlist\u001b[0m\u001b[0;34m(\u001b[0m\u001b[0mmap\u001b[0m\u001b[0;34m(\u001b[0m\u001b[0msympify\u001b[0m\u001b[0;34m,\u001b[0m \u001b[0msymbols\u001b[0m\u001b[0;34m)\u001b[0m\u001b[0;34m)\u001b[0m  \u001b[0;31m# e.g. x, 2, y, z\u001b[0m\u001b[0;34m\u001b[0m\u001b[0m\n\u001b[1;32m   2774\u001b[0m         \u001b[0massumptions\u001b[0m\u001b[0;34m.\u001b[0m\u001b[0msetdefault\u001b[0m\u001b[0;34m(\u001b[0m\u001b[0;34m\"evaluate\"\u001b[0m\u001b[0;34m,\u001b[0m \u001b[0mTrue\u001b[0m\u001b[0;34m)\u001b[0m\u001b[0;34m\u001b[0m\u001b[0m\n\u001b[0;32m-> 2775\u001b[0;31m         \u001b[0;32mreturn\u001b[0m \u001b[0mDerivative\u001b[0m\u001b[0;34m(\u001b[0m\u001b[0mself\u001b[0m\u001b[0;34m,\u001b[0m \u001b[0;34m*\u001b[0m\u001b[0mnew_symbols\u001b[0m\u001b[0;34m,\u001b[0m \u001b[0;34m**\u001b[0m\u001b[0massumptions\u001b[0m\u001b[0;34m)\u001b[0m\u001b[0;34m\u001b[0m\u001b[0m\n\u001b[0m\u001b[1;32m   2776\u001b[0m \u001b[0;34m\u001b[0m\u001b[0m\n\u001b[1;32m   2777\u001b[0m     \u001b[0;31m###########################################################################\u001b[0m\u001b[0;34m\u001b[0m\u001b[0;34m\u001b[0m\u001b[0m\n",
        "\u001b[0;32m/Library/Python/2.7/site-packages/sympy/core/function.pyc\u001b[0m in \u001b[0;36m__new__\u001b[0;34m(cls, expr, *variables, **assumptions)\u001b[0m\n\u001b[1;32m   1027\u001b[0m                 \u001b[0;32mfrom\u001b[0m \u001b[0msympy\u001b[0m\u001b[0;34m.\u001b[0m\u001b[0mutilities\u001b[0m\u001b[0;34m.\u001b[0m\u001b[0mmisc\u001b[0m \u001b[0;32mimport\u001b[0m \u001b[0mfilldedent\u001b[0m\u001b[0;34m\u001b[0m\u001b[0m\n\u001b[1;32m   1028\u001b[0m                 raise ValueError(filldedent('''\n\u001b[0;32m-> 1029\u001b[0;31m                 Can\\'t differentiate wrt the variable: %s, %s''' % (v, count)))\n\u001b[0m\u001b[1;32m   1030\u001b[0m \u001b[0;34m\u001b[0m\u001b[0m\n\u001b[1;32m   1031\u001b[0m             \u001b[0;32mif\u001b[0m \u001b[0mall_zero\u001b[0m \u001b[0;32mand\u001b[0m \u001b[0;32mnot\u001b[0m \u001b[0mcount\u001b[0m \u001b[0;34m==\u001b[0m \u001b[0;36m0\u001b[0m\u001b[0;34m:\u001b[0m\u001b[0;34m\u001b[0m\u001b[0m\n",
        "\u001b[0;31mValueError\u001b[0m: \nCan't differentiate wrt the variable:\n1.0*l_1*(l_1*m_1*Derivative(phi_1(t), t) +\nl_1*m_2*Derivative(phi_1(t), t) + l_2*m_2*cos(phi_1(t) -\nphi_2(t))*Derivative(phi_2(t), t)), 1"
       ]
      }
     ],
     "prompt_number": 96
    },
    {
     "cell_type": "code",
     "collapsed": false,
     "input": [
      "H.diff(l_1*(l_1*m_1*Derivative(phi_1, t) +\n",
      "l_1*m_2*Derivative(phi_1, t) + l_2*m_2*cos(phi_1 -\n",
      "phi_2*Derivative(phi_2, t))))"
     ],
     "language": "python",
     "metadata": {},
     "outputs": []
    },
    {
     "cell_type": "code",
     "collapsed": false,
     "input": [],
     "language": "python",
     "metadata": {},
     "outputs": []
    }
   ],
   "metadata": {}
  }
 ]
}